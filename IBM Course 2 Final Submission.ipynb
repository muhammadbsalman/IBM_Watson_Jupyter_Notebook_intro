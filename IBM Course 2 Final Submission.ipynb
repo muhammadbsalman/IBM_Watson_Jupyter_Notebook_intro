{
    "cells": [
        {
            "metadata": {},
            "cell_type": "markdown",
            "source": "# My Jupyter Notebook on IBM Watson Studio"
        },
        {
            "metadata": {},
            "cell_type": "markdown",
            "source": "**Muhammad Salman**\n\nElectrical Engineer"
        },
        {
            "metadata": {},
            "cell_type": "markdown",
            "source": "*I am interested in data science becasue I enjoy exploring and visualizing differetn data. Moreover, I enjoy connecting different dataset features to realize a trained model*"
        },
        {
            "metadata": {},
            "cell_type": "markdown",
            "source": "### The code below will print a greeting to IBM Watson Studio."
        },
        {
            "metadata": {},
            "cell_type": "code",
            "source": "print(\"Hello IBM Watson Studio. Nice to be working with you!\")",
            "execution_count": 2,
            "outputs": [
                {
                    "output_type": "stream",
                    "text": "Hello IBM Watson Studio. Nice to be working with you!\n",
                    "name": "stdout"
                }
            ]
        },
        {
            "metadata": {},
            "cell_type": "markdown",
            "source": "Example 1: Table of days stating whether it was sunny outside\n\n**Day** | **Sunny?**\n--- | --- \nMonday | Yes\nTuesday | Yes\nWednesday | No\nThursday | Yes\nFriday | No\n\nExample 2: Bulleted list with random values\n\n* Hi\n* My\n* Name\n* Is\n* Muhammad\n\nExample 3: Numbered list with random values\n\n1. Hi\n2. My\n3. Name\n4. Is\n5. Muhammad"
        }
    ],
    "metadata": {
        "kernelspec": {
            "name": "python3",
            "display_name": "Python 3.7",
            "language": "python"
        },
        "language_info": {
            "name": "python",
            "version": "3.7.10",
            "mimetype": "text/x-python",
            "codemirror_mode": {
                "name": "ipython",
                "version": 3
            },
            "pygments_lexer": "ipython3",
            "nbconvert_exporter": "python",
            "file_extension": ".py"
        }
    },
    "nbformat": 4,
    "nbformat_minor": 1
}